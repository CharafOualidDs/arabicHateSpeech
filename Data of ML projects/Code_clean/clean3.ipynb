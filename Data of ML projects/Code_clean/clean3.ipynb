{
 "cells": [
  {
   "cell_type": "code",
   "execution_count": 2,
   "id": "810f5f58",
   "metadata": {},
   "outputs": [],
   "source": [
    "import numpy as np\n",
    "import pandas as pd"
   ]
  },
  {
   "cell_type": "code",
   "execution_count": 53,
   "id": "700e98dd",
   "metadata": {},
   "outputs": [],
   "source": [
    "df = pd.read_csv(\"data/subTask-B-HSNOT_HS.csv\")"
   ]
  },
  {
   "cell_type": "code",
   "execution_count": 55,
   "id": "c7163255",
   "metadata": {
    "scrolled": true
   },
   "outputs": [
    {
     "data": {
      "text/html": [
       "<div>\n",
       "<style scoped>\n",
       "    .dataframe tbody tr th:only-of-type {\n",
       "        vertical-align: middle;\n",
       "    }\n",
       "\n",
       "    .dataframe tbody tr th {\n",
       "        vertical-align: top;\n",
       "    }\n",
       "\n",
       "    .dataframe thead th {\n",
       "        text-align: right;\n",
       "    }\n",
       "</style>\n",
       "<table border=\"1\" class=\"dataframe\">\n",
       "  <thead>\n",
       "    <tr style=\"text-align: right;\">\n",
       "      <th></th>\n",
       "      <th>Tweets</th>\n",
       "      <th>HS</th>\n",
       "    </tr>\n",
       "  </thead>\n",
       "  <tbody>\n",
       "    <tr>\n",
       "      <th>0</th>\n",
       "      <td>العمل مساله غيره فنيه</td>\n",
       "      <td>0</td>\n",
       "    </tr>\n",
       "    <tr>\n",
       "      <th>1</th>\n",
       "      <td>المعيار والمقياس للحكم الله رسول الله مجلس الا...</td>\n",
       "      <td>0</td>\n",
       "    </tr>\n",
       "    <tr>\n",
       "      <th>2</th>\n",
       "      <td>تركيا دوله مسلمه منت بقد افعالها ومعاركها وانت...</td>\n",
       "      <td>1</td>\n",
       "    </tr>\n",
       "    <tr>\n",
       "      <th>3</th>\n",
       "      <td>والله اهدا</td>\n",
       "      <td>0</td>\n",
       "    </tr>\n",
       "    <tr>\n",
       "      <th>4</th>\n",
       "      <td>يباله شان يرد عقله شوي</td>\n",
       "      <td>0</td>\n",
       "    </tr>\n",
       "  </tbody>\n",
       "</table>\n",
       "</div>"
      ],
      "text/plain": [
       "                                              Tweets  HS\n",
       "0                              العمل مساله غيره فنيه   0\n",
       "1  المعيار والمقياس للحكم الله رسول الله مجلس الا...   0\n",
       "2  تركيا دوله مسلمه منت بقد افعالها ومعاركها وانت...   1\n",
       "3                                         والله اهدا   0\n",
       "4                             يباله شان يرد عقله شوي   0"
      ]
     },
     "execution_count": 55,
     "metadata": {},
     "output_type": "execute_result"
    }
   ],
   "source": [
    "df.head()\n",
    "\n"
   ]
  },
  {
   "cell_type": "code",
   "execution_count": 56,
   "id": "745eb34a",
   "metadata": {},
   "outputs": [],
   "source": [
    "\n",
    "df_clean = df.rename(columns={'HS': 'Toxic/Not Toxic'})\n",
    "df_clean = df_clean.rename(columns={'Tweets': 'Text'})\n",
    "\n"
   ]
  },
  {
   "cell_type": "code",
   "execution_count": 57,
   "id": "5ff7efa2",
   "metadata": {},
   "outputs": [
    {
     "name": "stdout",
     "output_type": "stream",
     "text": [
      "Unique values in column1: [0 1]\n"
     ]
    }
   ],
   "source": [
    "# Get the unique values in 'column1'\n",
    "unique_values = df_clean['Toxic/Not Toxic'].unique()\n",
    "\n",
    "# Print the unique values\n",
    "print(\"Unique values in column1:\", unique_values)"
   ]
  },
  {
   "cell_type": "code",
   "execution_count": 58,
   "id": "0579be1b",
   "metadata": {},
   "outputs": [
    {
     "name": "stdout",
     "output_type": "stream",
     "text": [
      "Il y a 2975 lignes étiquetées comme toxiques.\n",
      "Il y a 2957 lignes étiquetées comme non toxiques.\n"
     ]
    }
   ],
   "source": [
    "num_toxic = df_clean['Toxic/Not Toxic'].value_counts()[1]\n",
    "print(f\"Il y a {num_toxic} lignes étiquetées comme toxiques.\")\n",
    "num_toxic = df_clean['Toxic/Not Toxic'].value_counts()[0]\n",
    "print(f\"Il y a {num_toxic} lignes étiquetées comme non toxiques.\")"
   ]
  },
  {
   "cell_type": "code",
   "execution_count": 59,
   "id": "3bf0871a",
   "metadata": {},
   "outputs": [
    {
     "data": {
      "text/html": [
       "<div>\n",
       "<style scoped>\n",
       "    .dataframe tbody tr th:only-of-type {\n",
       "        vertical-align: middle;\n",
       "    }\n",
       "\n",
       "    .dataframe tbody tr th {\n",
       "        vertical-align: top;\n",
       "    }\n",
       "\n",
       "    .dataframe thead th {\n",
       "        text-align: right;\n",
       "    }\n",
       "</style>\n",
       "<table border=\"1\" class=\"dataframe\">\n",
       "  <thead>\n",
       "    <tr style=\"text-align: right;\">\n",
       "      <th></th>\n",
       "      <th>Text</th>\n",
       "      <th>Toxic/Not Toxic</th>\n",
       "    </tr>\n",
       "  </thead>\n",
       "  <tbody>\n",
       "    <tr>\n",
       "      <th>0</th>\n",
       "      <td>العمل مساله غيره فنيه</td>\n",
       "      <td>0</td>\n",
       "    </tr>\n",
       "    <tr>\n",
       "      <th>1</th>\n",
       "      <td>المعيار والمقياس للحكم الله رسول الله مجلس الا...</td>\n",
       "      <td>0</td>\n",
       "    </tr>\n",
       "    <tr>\n",
       "      <th>2</th>\n",
       "      <td>تركيا دوله مسلمه منت بقد افعالها ومعاركها وانت...</td>\n",
       "      <td>1</td>\n",
       "    </tr>\n",
       "    <tr>\n",
       "      <th>3</th>\n",
       "      <td>والله اهدا</td>\n",
       "      <td>0</td>\n",
       "    </tr>\n",
       "    <tr>\n",
       "      <th>4</th>\n",
       "      <td>يباله شان يرد عقله شوي</td>\n",
       "      <td>0</td>\n",
       "    </tr>\n",
       "    <tr>\n",
       "      <th>...</th>\n",
       "      <td>...</td>\n",
       "      <td>...</td>\n",
       "    </tr>\n",
       "    <tr>\n",
       "      <th>5927</th>\n",
       "      <td>بايع الكليجا عشانا قلنا مزيون خليتونا كفار قري...</td>\n",
       "      <td>1</td>\n",
       "    </tr>\n",
       "    <tr>\n",
       "      <th>5928</th>\n",
       "      <td>يلا خنزير الله يرحم صدام حسين داعسكن</td>\n",
       "      <td>1</td>\n",
       "    </tr>\n",
       "    <tr>\n",
       "      <th>5929</th>\n",
       "      <td>بايع الكليجا انحدار اخلاقي شنيييع</td>\n",
       "      <td>0</td>\n",
       "    </tr>\n",
       "    <tr>\n",
       "      <th>5930</th>\n",
       "      <td>انزلع مليت منك</td>\n",
       "      <td>0</td>\n",
       "    </tr>\n",
       "    <tr>\n",
       "      <th>5931</th>\n",
       "      <td>غريبين انتم اهل الجزيره العربيه بتجوا لتعايروا...</td>\n",
       "      <td>1</td>\n",
       "    </tr>\n",
       "  </tbody>\n",
       "</table>\n",
       "<p>5932 rows × 2 columns</p>\n",
       "</div>"
      ],
      "text/plain": [
       "                                                   Text  Toxic/Not Toxic\n",
       "0                                 العمل مساله غيره فنيه                0\n",
       "1     المعيار والمقياس للحكم الله رسول الله مجلس الا...                0\n",
       "2     تركيا دوله مسلمه منت بقد افعالها ومعاركها وانت...                1\n",
       "3                                            والله اهدا                0\n",
       "4                                يباله شان يرد عقله شوي                0\n",
       "...                                                 ...              ...\n",
       "5927  بايع الكليجا عشانا قلنا مزيون خليتونا كفار قري...                1\n",
       "5928               يلا خنزير الله يرحم صدام حسين داعسكن                1\n",
       "5929                  بايع الكليجا انحدار اخلاقي شنيييع                0\n",
       "5930                                     انزلع مليت منك                0\n",
       "5931  غريبين انتم اهل الجزيره العربيه بتجوا لتعايروا...                1\n",
       "\n",
       "[5932 rows x 2 columns]"
      ]
     },
     "execution_count": 59,
     "metadata": {},
     "output_type": "execute_result"
    }
   ],
   "source": [
    "df_clean"
   ]
  },
  {
   "cell_type": "code",
   "execution_count": 60,
   "id": "6086d5ad",
   "metadata": {},
   "outputs": [],
   "source": [
    "# Enregistrer la dataframe nettoyée dans un fichier CSV\n",
    "df_clean.to_csv('clean/subTask-B-HSNOT_HS_nettoye.csv', index=False)"
   ]
  },
  {
   "cell_type": "code",
   "execution_count": null,
   "id": "e50da7bd",
   "metadata": {},
   "outputs": [],
   "source": []
  },
  {
   "cell_type": "code",
   "execution_count": null,
   "id": "5e7b13f8",
   "metadata": {},
   "outputs": [],
   "source": []
  }
 ],
 "metadata": {
  "kernelspec": {
   "display_name": "Python 3 (ipykernel)",
   "language": "python",
   "name": "python3"
  },
  "language_info": {
   "codemirror_mode": {
    "name": "ipython",
    "version": 3
   },
   "file_extension": ".py",
   "mimetype": "text/x-python",
   "name": "python",
   "nbconvert_exporter": "python",
   "pygments_lexer": "ipython3",
   "version": "3.9.13"
  }
 },
 "nbformat": 4,
 "nbformat_minor": 5
}
